{
 "cells": [
  {
   "cell_type": "markdown",
   "metadata": {},
   "source": [
    "# Pitchfork album reviews and song lyrics analysis\n",
    "# Formatting the data\n",
    "---"
   ]
  },
  {
   "cell_type": "code",
   "execution_count": 1,
   "metadata": {},
   "outputs": [],
   "source": [
    "import pandas as pd\n",
    "import pickle\n",
    "import json\n",
    "import os"
   ]
  },
  {
   "cell_type": "markdown",
   "metadata": {},
   "source": [
    "## Load the Pitchfork reviews"
   ]
  },
  {
   "cell_type": "code",
   "execution_count": 2,
   "metadata": {},
   "outputs": [],
   "source": [
    "# Pitchfork album reviews\n",
    "filename_album_reviews = \"./data/album_reviews.pickle\"\n",
    "if os.path.exists(filename_album_reviews) and os.path.getsize(filename_album_reviews) > 0:\n",
    "    artist_reviews = pickle.load(open(filename_album_reviews, 'rb'))"
   ]
  },
  {
   "cell_type": "markdown",
   "metadata": {},
   "source": [
    "## Convert the reviews from JSON string to Pitchfork Review format"
   ]
  },
  {
   "cell_type": "code",
   "execution_count": 9,
   "metadata": {},
   "outputs": [],
   "source": [
    "from pitchfork import pitchfork as pf\n",
    "from bs4 import BeautifulSoup"
   ]
  },
  {
   "cell_type": "code",
   "execution_count": 10,
   "metadata": {},
   "outputs": [],
   "source": [
    "def convert_json_to_review(review_as_string):\n",
    "    json_obj = json.loads(review_as_string)\n",
    "    return pf.Review(json_obj['searched_artist'], json_obj['searched_album'],\n",
    "                     json_obj['matched_artist'], json_obj['matched_album'],\n",
    "                     json_obj['query'], json_obj['url'], BeautifulSoup(json_obj['soup'], \"lxml\"))"
   ]
  },
  {
   "cell_type": "code",
   "execution_count": null,
   "metadata": {
    "scrolled": true
   },
   "outputs": [],
   "source": [
    "# Convert to Review format\n",
    "all_reviews = {}\n",
    "for name, albums in artist_reviews.items():\n",
    "    print(name)\n",
    "    album_reviews = []\n",
    "    for album, review in albums.items():\n",
    "        album_reviews.append(convert_json_to_review(review))\n",
    "    all_reviews[name] = album_reviews\n",
    "    \n",
    "# List of all artist names with reviews\n",
    "artist_names_with_reviews = list(all_reviews.keys())\n",
    "print('\\nDone.')"
   ]
  },
  {
   "cell_type": "code",
   "execution_count": 15,
   "metadata": {},
   "outputs": [
    {
     "data": {
      "text/plain": [
       "dict_keys(['Kanye West', 'The Beatles', '2Pac', 'Eminem', 'The Notorious B.I.G.', 'Nas', 'Ice Cube', 'JAY-Z', 'Snoop Dogg', 'Dr. Dre', 'Kendrick Lamar', 'A$AP Rocky', '50 Cent', 'Busta Rhymes', 'J. Cole', 'Method Man', 'KRS-One', 'Ludacris', 'Lil Wayne', 'Common', 'Ghostface Killah', 'T.I.', 'Lauryn Hill', 'Scarface', 'Raekwon', 'The Game', \"Ol' Dirty Bastard\", 'Mobb Deep', 'Logic', 'Chance The Rapper', 'Cypress Hill', 'Lupe Fiasco', 'RZA', 'GZA', 'Warren G', 'Q-Tip', 'Talib Kweli', 'Missy Elliott', 'Immortal Technique', 'Big Sean', 'Kid Cudi', 'Twista', 'Big Boi', 'Drake', 'Wiz Khalifa', 'Eric B. & Rakim', 'ScHoolboy Q', 'Run-D.M.C.', 'Hopsin', 'Nelly', 'Tyler, The Creator', 'Jadakiss', 'Kurupt', 'Grandmaster Flash & The Furious Five', 'N.W.A', 'Gang Starr', 'E-40', 'Pusha T', 'De La Soul', 'Yelawolf', 'Earl Sweatshirt', 'Fabolous', 'Mac Miller', 'Jeezy', 'Kodak Black', '2 Chainz', 'Chief Keef', 'Gucci Mane', 'Salt-N-Pepa', \"Lil' Kim\", 'Nicki Minaj', 'M.I.A.', 'Azealia Banks', 'Angel Haze', 'DeJ Loaf', 'Jean Grae', 'Ciara', 'Estelle', 'Tink', 'The Kinks', 'The Beach Boys', 'Bruce Springsteen', 'Alice in Chains', 'ZZ Top', 'Green Day', 'Neil Young', 'Tom Petty and the Heartbreakers', 'Foo Fighters', 'Grateful Dead', 'Rush', 'Red Hot Chili Peppers', 'Michael Jackson', 'Paul McCartney', 'Black Sabbath', 'Soundgarden', 'The Band', 'Eagles', 'Bob Dylan', 'Pearl Jam', 'George Harrison', 'Pink Floyd', 'Kansas', 'U2', 'The Clash', 'Tame Impala', 'The White Stripes', 'Santana', 'The Who', 'John Lennon', 'Nirvana', 'Blondie', 'Elvis Presley', 'The Rolling Stones', 'Ramones', \"Guns N' Roses\", 'Electric Light Orchestra', 'Steely Dan', 'Foreigner', 'Radiohead', 'The Velvet Underground', 'Oasis', 'Cheap Trick', 'Led Zeppelin', 'Tom Petty', 'Rage Against the Machine', 'The Cars', 'Fleetwood Mac', 'David Bowie', 'Chuck Berry', 'Coldplay', 'The Doors', 'Metallica', 'Queen', 'Smashing Pumpkins', 'Dolly Parton', 'Kacey Musgraves', 'Alison Krauss', 'Loretta Lynn', 'Wanda Jackson', 'Emmylou Harris', 'Willie Nelson', 'Johnny Cash', 'Glen Campbell'])"
      ]
     },
     "execution_count": 15,
     "metadata": {},
     "output_type": "execute_result"
    }
   ],
   "source": [
    "all_reviews.keys()"
   ]
  },
  {
   "cell_type": "markdown",
   "metadata": {},
   "source": [
    "## Convert Pitchfork Reviews to JSON format"
   ]
  },
  {
   "cell_type": "code",
   "execution_count": 200,
   "metadata": {},
   "outputs": [],
   "source": [
    "import re"
   ]
  },
  {
   "cell_type": "code",
   "execution_count": null,
   "metadata": {
    "scrolled": true
   },
   "outputs": [],
   "source": [
    "reviews_json = []\n",
    "re_year = re.compile(r\"\\d{4}\") # Extracting publication date\n",
    "for artist, album_reviews in all_reviews.items():\n",
    "    print(40 * '-')\n",
    "    print(artist)\n",
    "    for review in album_reviews:\n",
    "        review_json_obj = {}\n",
    "        review_method_names = [m for m in dir(r) if not m.find('_') == 0 and (m not in ['soup', 'to_json', 'full_text', 'methods', 'query'])]\n",
    "        review_method_names = [m for m in review_method_names if ('matched_' not in m) and ('searched_' not in m)]\n",
    "        for method in review_method_names:\n",
    "            try:\n",
    "                if method == 'year':\n",
    "                    val = re_year.search(getattr(review, method)()).group()                                        \n",
    "                elif method == 'url':\n",
    "                    val = getattr(review, method)\n",
    "                elif method == 'cover':\n",
    "                    val = review.soup.find(class_='single-album-tombstone__art').find('img').attrs['src']\n",
    "                else:\n",
    "                    val = getattr(review, method)();\n",
    "                    \n",
    "                if isinstance(val, str):\n",
    "                    review_json_obj[method] = val.strip()\n",
    "                else:\n",
    "                    review_json_obj[method] = val\n",
    "            except:\n",
    "                review_json_obj[method] = None;                \n",
    "        reviews_json.append(review_json_obj)"
   ]
  },
  {
   "cell_type": "code",
   "execution_count": 206,
   "metadata": {},
   "outputs": [],
   "source": [
    "# Save the JSON object\n",
    "with open('./data/pitchfork_reviews.json', 'w') as outfile:\n",
    "    json.dump(reviews_json, outfile)"
   ]
  },
  {
   "cell_type": "markdown",
   "metadata": {},
   "source": [
    "## Only keep songs for artists and albums that have reviews"
   ]
  },
  {
   "cell_type": "code",
   "execution_count": 213,
   "metadata": {},
   "outputs": [],
   "source": [
    "import numpy as np"
   ]
  },
  {
   "cell_type": "code",
   "execution_count": 209,
   "metadata": {},
   "outputs": [],
   "source": [
    "# Pitchfork album reviews\n",
    "del(reviews)\n",
    "reviews = pd.read_json('./data/pitchfork_reviews.json')"
   ]
  },
  {
   "cell_type": "code",
   "execution_count": 207,
   "metadata": {},
   "outputs": [],
   "source": [
    "# Load the song lyrics\n",
    "songs = pd.read_json('./data/lyrics/all_songs.json')"
   ]
  },
  {
   "cell_type": "code",
   "execution_count": 210,
   "metadata": {},
   "outputs": [],
   "source": [
    "artists_with_reviews = list(map(str.lower, set(reviews.artist)))\n",
    "albums_with_reviews = list(map(str.lower, set(reviews.album)))"
   ]
  },
  {
   "cell_type": "code",
   "execution_count": 214,
   "metadata": {},
   "outputs": [],
   "source": [
    "mask_artists = np.ndarray(songs.shape, dtype=bool)\n",
    "for n in np.arange(len(songs)):\n",
    "    row = songs.iloc[n]\n",
    "    if row.artist is None or row.album is None:\n",
    "        mask_artists[n, :]\n",
    "    elif (row.artist.lower() in artists_with_reviews) and (row.album.lower() in albums_with_reviews):\n",
    "        mask_artists[n, :] = False\n",
    "    else:\n",
    "        mask_artists[n, :] = True "
   ]
  },
  {
   "cell_type": "code",
   "execution_count": 215,
   "metadata": {},
   "outputs": [],
   "source": [
    "# Remove the songs without corresponding Pitchfork reviews\n",
    "songs.mask(mask_artists, inplace=True)\n",
    "songs.dropna(inplace=True);"
   ]
  },
  {
   "cell_type": "code",
   "execution_count": 216,
   "metadata": {},
   "outputs": [],
   "source": [
    "with open('./data/songs_with_reviews.json', 'w') as outfile:\n",
    "    json.dump(json.loads(songs.to_json(orient='records')), outfile)"
   ]
  }
 ],
 "metadata": {
  "kernelspec": {
   "display_name": "Python 3",
   "language": "python",
   "name": "python3"
  },
  "language_info": {
   "codemirror_mode": {
    "name": "ipython",
    "version": 3
   },
   "file_extension": ".py",
   "mimetype": "text/x-python",
   "name": "python",
   "nbconvert_exporter": "python",
   "pygments_lexer": "ipython3",
   "version": "3.6.5"
  }
 },
 "nbformat": 4,
 "nbformat_minor": 2
}
