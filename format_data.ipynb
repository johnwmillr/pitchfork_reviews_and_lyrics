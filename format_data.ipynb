{
 "cells": [
  {
   "cell_type": "markdown",
   "metadata": {},
   "source": [
    "# Pitchfork album reviews and song lyrics analysis\n",
    "# Formatting the data\n",
    "---"
   ]
  },
  {
   "cell_type": "code",
   "execution_count": 3,
   "metadata": {},
   "outputs": [],
   "source": [
    "import pandas as pd\n",
    "import numpy as np\n",
    "import pickle\n",
    "import json\n",
    "import os"
   ]
  },
  {
   "cell_type": "markdown",
   "metadata": {},
   "source": [
    "## Load the Pitchfork reviews"
   ]
  },
  {
   "cell_type": "code",
   "execution_count": 2,
   "metadata": {},
   "outputs": [],
   "source": [
    "# Pitchfork album reviews\n",
    "filename_album_reviews = \"./data/album_reviews.pickle\"\n",
    "if os.path.exists(filename_album_reviews) and os.path.getsize(filename_album_reviews) > 0:\n",
    "    artist_reviews = pickle.load(open(filename_album_reviews, 'rb'))"
   ]
  },
  {
   "cell_type": "markdown",
   "metadata": {},
   "source": [
    "## Convert the reviews from JSON string to Pitchfork Review format"
   ]
  },
  {
   "cell_type": "code",
   "execution_count": 9,
   "metadata": {},
   "outputs": [],
   "source": [
    "from pitchfork import pitchfork as pf\n",
    "from bs4 import BeautifulSoup"
   ]
  },
  {
   "cell_type": "code",
   "execution_count": 10,
   "metadata": {},
   "outputs": [],
   "source": [
    "def convert_json_to_review(review_as_string):\n",
    "    json_obj = json.loads(review_as_string)\n",
    "    return pf.Review(json_obj['searched_artist'], json_obj['searched_album'],\n",
    "                     json_obj['matched_artist'], json_obj['matched_album'],\n",
    "                     json_obj['query'], json_obj['url'], BeautifulSoup(json_obj['soup'], \"lxml\"))"
   ]
  },
  {
   "cell_type": "code",
   "execution_count": null,
   "metadata": {
    "scrolled": true
   },
   "outputs": [],
   "source": [
    "# Convert to Review format\n",
    "all_reviews = {}\n",
    "for name, albums in artist_reviews.items():\n",
    "    print(name)\n",
    "    album_reviews = []\n",
    "    for album, review in albums.items():\n",
    "        album_reviews.append(convert_json_to_review(review))\n",
    "    all_reviews[name] = album_reviews\n",
    "    \n",
    "# List of all artist names with reviews\n",
    "artist_names_with_reviews = list(all_reviews.keys())\n",
    "print('\\nDone.')"
   ]
  },
  {
   "cell_type": "code",
   "execution_count": 15,
   "metadata": {},
   "outputs": [
    {
     "data": {
      "text/plain": [
       "dict_keys(['Kanye West', 'The Beatles', '2Pac', 'Eminem', 'The Notorious B.I.G.', 'Nas', 'Ice Cube', 'JAY-Z', 'Snoop Dogg', 'Dr. Dre', 'Kendrick Lamar', 'A$AP Rocky', '50 Cent', 'Busta Rhymes', 'J. Cole', 'Method Man', 'KRS-One', 'Ludacris', 'Lil Wayne', 'Common', 'Ghostface Killah', 'T.I.', 'Lauryn Hill', 'Scarface', 'Raekwon', 'The Game', \"Ol' Dirty Bastard\", 'Mobb Deep', 'Logic', 'Chance The Rapper', 'Cypress Hill', 'Lupe Fiasco', 'RZA', 'GZA', 'Warren G', 'Q-Tip', 'Talib Kweli', 'Missy Elliott', 'Immortal Technique', 'Big Sean', 'Kid Cudi', 'Twista', 'Big Boi', 'Drake', 'Wiz Khalifa', 'Eric B. & Rakim', 'ScHoolboy Q', 'Run-D.M.C.', 'Hopsin', 'Nelly', 'Tyler, The Creator', 'Jadakiss', 'Kurupt', 'Grandmaster Flash & The Furious Five', 'N.W.A', 'Gang Starr', 'E-40', 'Pusha T', 'De La Soul', 'Yelawolf', 'Earl Sweatshirt', 'Fabolous', 'Mac Miller', 'Jeezy', 'Kodak Black', '2 Chainz', 'Chief Keef', 'Gucci Mane', 'Salt-N-Pepa', \"Lil' Kim\", 'Nicki Minaj', 'M.I.A.', 'Azealia Banks', 'Angel Haze', 'DeJ Loaf', 'Jean Grae', 'Ciara', 'Estelle', 'Tink', 'The Kinks', 'The Beach Boys', 'Bruce Springsteen', 'Alice in Chains', 'ZZ Top', 'Green Day', 'Neil Young', 'Tom Petty and the Heartbreakers', 'Foo Fighters', 'Grateful Dead', 'Rush', 'Red Hot Chili Peppers', 'Michael Jackson', 'Paul McCartney', 'Black Sabbath', 'Soundgarden', 'The Band', 'Eagles', 'Bob Dylan', 'Pearl Jam', 'George Harrison', 'Pink Floyd', 'Kansas', 'U2', 'The Clash', 'Tame Impala', 'The White Stripes', 'Santana', 'The Who', 'John Lennon', 'Nirvana', 'Blondie', 'Elvis Presley', 'The Rolling Stones', 'Ramones', \"Guns N' Roses\", 'Electric Light Orchestra', 'Steely Dan', 'Foreigner', 'Radiohead', 'The Velvet Underground', 'Oasis', 'Cheap Trick', 'Led Zeppelin', 'Tom Petty', 'Rage Against the Machine', 'The Cars', 'Fleetwood Mac', 'David Bowie', 'Chuck Berry', 'Coldplay', 'The Doors', 'Metallica', 'Queen', 'Smashing Pumpkins', 'Dolly Parton', 'Kacey Musgraves', 'Alison Krauss', 'Loretta Lynn', 'Wanda Jackson', 'Emmylou Harris', 'Willie Nelson', 'Johnny Cash', 'Glen Campbell'])"
      ]
     },
     "execution_count": 15,
     "metadata": {},
     "output_type": "execute_result"
    }
   ],
   "source": [
    "all_reviews.keys()"
   ]
  },
  {
   "cell_type": "markdown",
   "metadata": {},
   "source": [
    "## Convert Pitchfork Reviews to JSON format"
   ]
  },
  {
   "cell_type": "code",
   "execution_count": 200,
   "metadata": {},
   "outputs": [],
   "source": [
    "import re"
   ]
  },
  {
   "cell_type": "code",
   "execution_count": null,
   "metadata": {
    "scrolled": true
   },
   "outputs": [],
   "source": [
    "reviews_json = []\n",
    "re_year = re.compile(r\"\\d{4}\") # Extracting publication date\n",
    "for artist, album_reviews in all_reviews.items():\n",
    "    print(40 * '-')\n",
    "    print(artist)\n",
    "    for review in album_reviews:\n",
    "        review_json_obj = {}\n",
    "        review_method_names = [m for m in dir(r) if not m.find('_') == 0 and (m not in ['soup', 'to_json', 'full_text', 'methods', 'query'])]\n",
    "        review_method_names = [m for m in review_method_names if ('matched_' not in m) and ('searched_' not in m)]\n",
    "        for method in review_method_names:\n",
    "            try:\n",
    "                if method == 'year':\n",
    "                    val = re_year.search(getattr(review, method)()).group()                                        \n",
    "                elif method == 'url':\n",
    "                    val = getattr(review, method)\n",
    "                elif method == 'cover':\n",
    "                    val = review.soup.find(class_='single-album-tombstone__art').find('img').attrs['src']\n",
    "                else:\n",
    "                    val = getattr(review, method)();\n",
    "                    \n",
    "                if isinstance(val, str):\n",
    "                    review_json_obj[method] = val.strip()\n",
    "                else:\n",
    "                    review_json_obj[method] = val\n",
    "            except:\n",
    "                review_json_obj[method] = None;                \n",
    "        reviews_json.append(review_json_obj)"
   ]
  },
  {
   "cell_type": "code",
   "execution_count": 206,
   "metadata": {},
   "outputs": [],
   "source": [
    "# Save the JSON object\n",
    "with open('./data/pitchfork_reviews_json.json', 'w') as outfile:\n",
    "    json.dump(reviews_json, outfile)"
   ]
  },
  {
   "cell_type": "markdown",
   "metadata": {},
   "source": [
    "# Remove samples without both Reviews and Songs"
   ]
  },
  {
   "cell_type": "code",
   "execution_count": 4,
   "metadata": {},
   "outputs": [],
   "source": [
    "import numpy as np"
   ]
  },
  {
   "cell_type": "code",
   "execution_count": 4,
   "metadata": {},
   "outputs": [],
   "source": [
    "# Load the Pitchfork album reviews\n",
    "reviews = pd.read_json('./data/pitchfork_reviews_json.json')"
   ]
  },
  {
   "cell_type": "code",
   "execution_count": 5,
   "metadata": {},
   "outputs": [],
   "source": [
    "# Load the song lyrics\n",
    "songs = pd.read_json('./data/lyrics/all_songs.json')\n",
    "songs.drop(columns='raw', inplace=True) # Drop the raw data column\n",
    "songs.dropna(subset=['album'], inplace=True) # Drop rows with missing albums"
   ]
  },
  {
   "cell_type": "code",
   "execution_count": 6,
   "metadata": {},
   "outputs": [
    {
     "name": "stdout",
     "output_type": "stream",
     "text": [
      "(585, 10)\n",
      "(45098, 8)\n"
     ]
    }
   ],
   "source": [
    "print(reviews.shape)\n",
    "print(songs.shape)"
   ]
  },
  {
   "cell_type": "code",
   "execution_count": 7,
   "metadata": {},
   "outputs": [],
   "source": [
    "# Determine masks for excluding songs without reviews and vice versa\n",
    "tmp = {'artists': [], 'albums': []}\n",
    "masks = {'songs': tmp.copy(), 'reviews': tmp.copy()}\n",
    "del(tmp)\n",
    "\n",
    "# Only keep artists who have Songs and Reviews\n",
    "artists_with_both = np.intersect1d(songs.artist, reviews.artist)\n",
    "is_missing_artist = lambda x: x not in artists_with_both\n",
    "masks['songs']['artists'] = np.asarray(list(map(is_missing_artist, songs.artist))).reshape((len(songs.artist), 1))\n",
    "masks['reviews']['artists'] = np.asarray(list(map(is_missing_artist, reviews.artist))).reshape((len(reviews.artist), 1))\n",
    "\n",
    "# Only keep albums which have Songs and Reviews\n",
    "albums_with_both = np.intersect1d(songs.album, reviews.album)\n",
    "is_missing_album = lambda x: x not in albums_with_both\n",
    "masks['songs']['albums'] = np.asarray(list(map(is_missing_album, songs.album))).reshape((len(songs.album), 1))\n",
    "masks['reviews']['albums'] = np.asarray(list(map(is_missing_album, reviews.album))).reshape((len(reviews.album), 1))"
   ]
  },
  {
   "cell_type": "code",
   "execution_count": 8,
   "metadata": {},
   "outputs": [],
   "source": [
    "# Drop rows from the Songs DataFrame\n",
    "songs.mask(np.tile(masks['songs']['artists'], songs.shape[1]), inplace=True)\n",
    "songs.dropna(inplace=True);"
   ]
  },
  {
   "cell_type": "code",
   "execution_count": 9,
   "metadata": {},
   "outputs": [],
   "source": [
    "# Drop rows from the Reviews DataFrame\n",
    "reviews.mask(np.tile(masks['reviews']['artists'], reviews.shape[1]), inplace=True)\n",
    "reviews.dropna(inplace=True);"
   ]
  },
  {
   "cell_type": "code",
   "execution_count": 10,
   "metadata": {},
   "outputs": [
    {
     "name": "stdout",
     "output_type": "stream",
     "text": [
      "(532, 10)\n",
      "(16896, 8)\n"
     ]
    }
   ],
   "source": [
    "print(reviews.shape)\n",
    "print(songs.shape)"
   ]
  },
  {
   "cell_type": "markdown",
   "metadata": {},
   "source": [
    "## Add gender and genre information to the Pitchfork reviews"
   ]
  },
  {
   "cell_type": "code",
   "execution_count": 11,
   "metadata": {},
   "outputs": [],
   "source": [
    "# Create a dictionary containing extra info for each artist\n",
    "artist_info = {}\n",
    "for idx, row in songs.iterrows():\n",
    "    artist = row.artist\n",
    "    if artist not in artist_info:\n",
    "        artist_info[artist] = {'gender': row.gender, 'genre': row.genre}"
   ]
  },
  {
   "cell_type": "code",
   "execution_count": 12,
   "metadata": {},
   "outputs": [],
   "source": [
    "# Create new columns for the Reviews DF\n",
    "genders, genres = [], []\n",
    "for n, artist in enumerate(reviews.artist):\n",
    "    genders.append(artist_info[artist]['gender'])\n",
    "    genres.append(artist_info[artist]['genre'])\n",
    "\n",
    "# Add the new columns to the Reviews DataFrame\n",
    "reviews['gender'] = genders\n",
    "reviews['genre'] = genres"
   ]
  },
  {
   "cell_type": "markdown",
   "metadata": {},
   "source": [
    "## Finish formatting and save  `songs` and `reviews` DFs"
   ]
  },
  {
   "cell_type": "code",
   "execution_count": 13,
   "metadata": {},
   "outputs": [],
   "source": [
    "# Reorder the DataFrame columns\n",
    "reviews = reviews[['artist', 'album', 'year', 'genre',\n",
    "                   'gender', 'score', 'best_new_music',\n",
    "                   'abstract', 'editorial', 'label', 'url', 'cover']]\n",
    "\n",
    "songs = songs[['title', 'artist', 'album', 'year', 'genre',\n",
    "               'gender', 'lyrics', 'image']]"
   ]
  },
  {
   "cell_type": "code",
   "execution_count": 14,
   "metadata": {},
   "outputs": [],
   "source": [
    "# Save the DataFrames as JSON files\n",
    "with open('./data/pitchfork_reviews_matched.json', 'w') as outfile:\n",
    "    json.dump(json.loads(reviews.to_json(orient='records')), outfile)\n",
    "with open('./data/song_lyrics_matched.json', 'w') as outfile:\n",
    "    json.dump(json.loads(songs.to_json(orient='records')), outfile)"
   ]
  },
  {
   "cell_type": "code",
   "execution_count": 15,
   "metadata": {},
   "outputs": [
    {
     "data": {
      "text/html": [
       "<div>\n",
       "<style scoped>\n",
       "    .dataframe tbody tr th:only-of-type {\n",
       "        vertical-align: middle;\n",
       "    }\n",
       "\n",
       "    .dataframe tbody tr th {\n",
       "        vertical-align: top;\n",
       "    }\n",
       "\n",
       "    .dataframe thead th {\n",
       "        text-align: right;\n",
       "    }\n",
       "</style>\n",
       "<table border=\"1\" class=\"dataframe\">\n",
       "  <thead>\n",
       "    <tr style=\"text-align: right;\">\n",
       "      <th></th>\n",
       "      <th>title</th>\n",
       "      <th>artist</th>\n",
       "      <th>album</th>\n",
       "      <th>year</th>\n",
       "      <th>genre</th>\n",
       "      <th>gender</th>\n",
       "      <th>lyrics</th>\n",
       "      <th>image</th>\n",
       "    </tr>\n",
       "  </thead>\n",
       "  <tbody>\n",
       "    <tr>\n",
       "      <th>0</th>\n",
       "      <td>16 on Death Row</td>\n",
       "      <td>2Pac</td>\n",
       "      <td>R U Still Down? (Remember Me)</td>\n",
       "      <td>1997-11-25</td>\n",
       "      <td>rap</td>\n",
       "      <td>male</td>\n",
       "      <td>Death Row\\nThat's where mothafuckas is endin' ...</td>\n",
       "      <td>https://images.genius.com/4f924e981b74c6d754d2...</td>\n",
       "    </tr>\n",
       "    <tr>\n",
       "      <th>4</th>\n",
       "      <td>2 of Amerikaz Most Wanted</td>\n",
       "      <td>2Pac</td>\n",
       "      <td>All Eyez on Me</td>\n",
       "      <td>1996-05-07</td>\n",
       "      <td>rap</td>\n",
       "      <td>male</td>\n",
       "      <td>Up out of there\\nAin't nothin' but a gangsta p...</td>\n",
       "      <td>https://images.genius.com/e47c72fcb1f2756daafc...</td>\n",
       "    </tr>\n",
       "  </tbody>\n",
       "</table>\n",
       "</div>"
      ],
      "text/plain": [
       "                       title artist                          album  \\\n",
       "0            16 on Death Row   2Pac  R U Still Down? (Remember Me)   \n",
       "4  2 of Amerikaz Most Wanted   2Pac                 All Eyez on Me   \n",
       "\n",
       "         year genre gender                                             lyrics  \\\n",
       "0  1997-11-25   rap   male  Death Row\\nThat's where mothafuckas is endin' ...   \n",
       "4  1996-05-07   rap   male  Up out of there\\nAin't nothin' but a gangsta p...   \n",
       "\n",
       "                                               image  \n",
       "0  https://images.genius.com/4f924e981b74c6d754d2...  \n",
       "4  https://images.genius.com/e47c72fcb1f2756daafc...  "
      ]
     },
     "execution_count": 15,
     "metadata": {},
     "output_type": "execute_result"
    }
   ],
   "source": [
    "songs.head(2)"
   ]
  },
  {
   "cell_type": "code",
   "execution_count": 16,
   "metadata": {},
   "outputs": [
    {
     "data": {
      "text/html": [
       "<div>\n",
       "<style scoped>\n",
       "    .dataframe tbody tr th:only-of-type {\n",
       "        vertical-align: middle;\n",
       "    }\n",
       "\n",
       "    .dataframe tbody tr th {\n",
       "        vertical-align: top;\n",
       "    }\n",
       "\n",
       "    .dataframe thead th {\n",
       "        text-align: right;\n",
       "    }\n",
       "</style>\n",
       "<table border=\"1\" class=\"dataframe\">\n",
       "  <thead>\n",
       "    <tr style=\"text-align: right;\">\n",
       "      <th></th>\n",
       "      <th>artist</th>\n",
       "      <th>album</th>\n",
       "      <th>year</th>\n",
       "      <th>genre</th>\n",
       "      <th>gender</th>\n",
       "      <th>score</th>\n",
       "      <th>best_new_music</th>\n",
       "      <th>abstract</th>\n",
       "      <th>editorial</th>\n",
       "      <th>label</th>\n",
       "      <th>url</th>\n",
       "      <th>cover</th>\n",
       "    </tr>\n",
       "  </thead>\n",
       "  <tbody>\n",
       "    <tr>\n",
       "      <th>0</th>\n",
       "      <td>Kanye West</td>\n",
       "      <td>Graduation</td>\n",
       "      <td>2007.0</td>\n",
       "      <td>rap</td>\n",
       "      <td>male</td>\n",
       "      <td>8.7</td>\n",
       "      <td>1.0</td>\n",
       "      <td>Though it doesn't quite match\\n               ...</td>\n",
       "      <td>While rap music famously thrives on the kind o...</td>\n",
       "      <td>Roc-A-Fella\\n                 / \\n            ...</td>\n",
       "      <td>/reviews/albums/10658-graduation/</td>\n",
       "      <td>https://media.pitchfork.com/photos/5929b270ea9...</td>\n",
       "    </tr>\n",
       "    <tr>\n",
       "      <th>1</th>\n",
       "      <td>Kanye West</td>\n",
       "      <td>Late Registration</td>\n",
       "      <td>2005.0</td>\n",
       "      <td>rap</td>\n",
       "      <td>male</td>\n",
       "      <td>9.5</td>\n",
       "      <td>1.0</td>\n",
       "      <td>The producer-rapper follows his Pazz and Jop-w...</td>\n",
       "      <td>\"Can I talk my shit again?\"\\n                 ...</td>\n",
       "      <td>Roc-A-Fella\\n                 / \\n            ...</td>\n",
       "      <td>/reviews/albums/8768-late-registration/</td>\n",
       "      <td>https://media.pitchfork.com/photos/5929aa8db13...</td>\n",
       "    </tr>\n",
       "  </tbody>\n",
       "</table>\n",
       "</div>"
      ],
      "text/plain": [
       "       artist              album    year genre gender  score  best_new_music  \\\n",
       "0  Kanye West         Graduation  2007.0   rap   male    8.7             1.0   \n",
       "1  Kanye West  Late Registration  2005.0   rap   male    9.5             1.0   \n",
       "\n",
       "                                            abstract  \\\n",
       "0  Though it doesn't quite match\\n               ...   \n",
       "1  The producer-rapper follows his Pazz and Jop-w...   \n",
       "\n",
       "                                           editorial  \\\n",
       "0  While rap music famously thrives on the kind o...   \n",
       "1  \"Can I talk my shit again?\"\\n                 ...   \n",
       "\n",
       "                                               label  \\\n",
       "0  Roc-A-Fella\\n                 / \\n            ...   \n",
       "1  Roc-A-Fella\\n                 / \\n            ...   \n",
       "\n",
       "                                       url  \\\n",
       "0        /reviews/albums/10658-graduation/   \n",
       "1  /reviews/albums/8768-late-registration/   \n",
       "\n",
       "                                               cover  \n",
       "0  https://media.pitchfork.com/photos/5929b270ea9...  \n",
       "1  https://media.pitchfork.com/photos/5929aa8db13...  "
      ]
     },
     "execution_count": 16,
     "metadata": {},
     "output_type": "execute_result"
    }
   ],
   "source": [
    "reviews.head(2)"
   ]
  },
  {
   "cell_type": "code",
   "execution_count": null,
   "metadata": {},
   "outputs": [],
   "source": []
  }
 ],
 "metadata": {
  "kernelspec": {
   "display_name": "Python 3",
   "language": "python",
   "name": "python3"
  },
  "language_info": {
   "codemirror_mode": {
    "name": "ipython",
    "version": 3
   },
   "file_extension": ".py",
   "mimetype": "text/x-python",
   "name": "python",
   "nbconvert_exporter": "python",
   "pygments_lexer": "ipython3",
   "version": "3.6.5"
  }
 },
 "nbformat": 4,
 "nbformat_minor": 2
}
