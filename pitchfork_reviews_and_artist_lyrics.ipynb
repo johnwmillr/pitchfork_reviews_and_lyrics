{
 "cells": [
  {
   "cell_type": "markdown",
   "metadata": {},
   "source": [
    "# Comparing Pitchfork reviews and artist lyrics"
   ]
  },
  {
   "cell_type": "code",
   "execution_count": 179,
   "metadata": {},
   "outputs": [],
   "source": [
    "import pitchfork.pitchfork as pitchfork\n",
    "from pitchfork.pitchfork.pitchfork import Review # For restoring saved reviews\n",
    "from bs4 import BeautifulSoup\n",
    "import json\n",
    "import pickle\n",
    "import os\n",
    "import numpy as np\n",
    "import pandas as pd\n",
    "import matplotlib.pyplot as plt\n",
    "from collections import Counter\n",
    "import time"
   ]
  },
  {
   "cell_type": "markdown",
   "metadata": {},
   "source": [
    "## Load the lyrics data"
   ]
  },
  {
   "cell_type": "code",
   "execution_count": 7,
   "metadata": {},
   "outputs": [],
   "source": [
    "# Load the lyrics\n",
    "artists_rap = json.load(open('lyrics/rap_lyrics.json'))\n",
    "artists_rock = json.load(open('lyrics/rock_lyrics.json'))\n",
    "artists_country = json.load(open('lyrics/country_lyrics.json'))\n",
    "artists_raw = artists_rap + artists_rock + artists_country"
   ]
  },
  {
   "cell_type": "code",
   "execution_count": 10,
   "metadata": {},
   "outputs": [
    {
     "name": "stdout",
     "output_type": "stream",
     "text": [
      "You have lyrics from 303 artists, with a minimum of 10 songs per artist.\n",
      "Female: 79, male: 222\n",
      "Database contains 58239 songs.\n"
     ]
    }
   ],
   "source": [
    "# Determine\n",
    "def getArtistImage(songs):    \n",
    "    urls = [None]\n",
    "    for song in songs:\n",
    "        if song['raw']['album'] is not None:\n",
    "            try:                \n",
    "                urls.append(song['raw']['album']['artist']['image_url'])                \n",
    "            except:\n",
    "                pass\n",
    "    \n",
    "    return Counter(urls).most_common()[0][0] # Most common image\n",
    "\n",
    "# Use a generator to exclude artists with too few songs\n",
    "def filterBySongCount(artists, min_count=10, max_count=10000):\n",
    "    for artist in artists:        \n",
    "        num_songs = len(artist['songs'])\n",
    "        if (num_songs >= min_count) and (num_songs < max_count): yield artist\n",
    "\n",
    "min_songs, max_songs = 10, 2500\n",
    "artists = list(filterBySongCount(artists_raw, min_songs, max_songs))\n",
    "\n",
    "# Artist images\n",
    "for artist in artists:\n",
    "    artist['image_url'] = getArtistImage(artist['songs'])\n",
    "    \n",
    "    # Kludge\n",
    "    if artist['artist'] == 'Black Thought':\n",
    "        artist['image_url'] = 'https://images.genius.com/23de511f4ac50d900128ea363b7d81b3.450x320x1.jpg'\n",
    "    if artist['artist'] == 'André 3000':\n",
    "        artist['image_url'] = 'http://images.genius.com/64b15c9489c65f5bf8f6577334347404.434x434x1.jpg'            \n",
    "        \n",
    "# Gender\n",
    "labels_gender = np.array([a['gender'] for a in artists])\n",
    "mask_female = np.array([g=='female' for g in labels_gender])\n",
    "mask_male   = np.array([g=='male'   for g in labels_gender])\n",
    "print(\"You have lyrics from {} artists, with a minimum of {} songs per artist.\\nFemale: {}, male: {}\"\n",
    "      .format(len(artists), min_songs, (labels_gender=='female').sum(), (labels_gender=='male').sum()))\n",
    "\n",
    "# Add all song lyrics to a single list\n",
    "all_songs = []\n",
    "for artist, gender in zip(artists, labels_gender):\n",
    "    for song in artist['songs']:        \n",
    "        song['gender'] = gender\n",
    "        all_songs.append(song)\n",
    "              \n",
    "song_count = len(all_songs)\n",
    "print(\"Database contains {} songs.\".format(song_count))\n",
    "\n",
    "# Store all lyrics in a single string\n",
    "all_lyrics = \" \".join([song['lyrics'] for song in all_songs])"
   ]
  },
  {
   "cell_type": "markdown",
   "metadata": {},
   "source": [
    "## Get list of all artist names and their albums"
   ]
  },
  {
   "cell_type": "code",
   "execution_count": 189,
   "metadata": {},
   "outputs": [],
   "source": [
    "# For each artist, get a list of their albums\n",
    "artist_albums = {}\n",
    "for artist in artists:\n",
    "    album_song_counts = {} # Keep track of how many songs show up for each album\n",
    "    for song in artist['songs']:        \n",
    "        album = song['album']        \n",
    "        if album in album_song_counts:\n",
    "            album_song_counts[album] += 1\n",
    "        elif album is not None:\n",
    "            album_song_counts[album]  = 1\n",
    "\n",
    "    # Only store albums with a bare minimum of songs (a rough indication of a real album)\n",
    "    artist_albums[artist['artist']] = [album[0] for album in album_song_counts.items() if album[1] >= 7]\n",
    "\n",
    "# Filter out artists without any albums matching the criteria    \n",
    "artist_albums = {artist: albums for artist, albums in artist_albums.items() if len(albums)>0}"
   ]
  },
  {
   "cell_type": "code",
   "execution_count": 190,
   "metadata": {},
   "outputs": [
    {
     "data": {
      "text/plain": [
       "['Live At The BBC. Disk 2',\n",
       " 'The Beatles Album Art',\n",
       " 'Abbey Road',\n",
       " 'Let It Be',\n",
       " 'Help!',\n",
       " \"Sgt. Pepper's Lonely Hearts Club Band\",\n",
       " \"A Hard Day's Night\",\n",
       " 'Anthology 1',\n",
       " 'Live At The BBC. Disk 1',\n",
       " 'With the Beatles',\n",
       " 'Anthology 3',\n",
       " 'Magical Mystery Tour',\n",
       " 'Please Please Me',\n",
       " \"The Beatles' Christmas Album\",\n",
       " 'Beatles for Sale',\n",
       " 'The Beatles (The White Album)',\n",
       " 'The Savage Young Beatles',\n",
       " 'Hey Jude',\n",
       " 'Rubber Soul',\n",
       " 'Revolver',\n",
       " \"Sgt. Pepper's Lonely Hearts Club Band 50th Anniversary Bonus Disc\"]"
      ]
     },
     "execution_count": 190,
     "metadata": {},
     "output_type": "execute_result"
    }
   ],
   "source": [
    "artist_albums['The Beatles']"
   ]
  },
  {
   "cell_type": "markdown",
   "metadata": {},
   "source": [
    "## Search Pitchfork for the album names we've collected"
   ]
  },
  {
   "cell_type": "code",
   "execution_count": 191,
   "metadata": {},
   "outputs": [],
   "source": [
    "artist_albums = {'Kanye West': ['my beautiful', 'Graduation', 'Late Registration'], 'The Beatles': ['Abbey Road','Let It Be',\"Sgt. Pepper's Lonely Hearts Club Band\"]}"
   ]
  },
  {
   "cell_type": "code",
   "execution_count": 194,
   "metadata": {},
   "outputs": [
    {
     "name": "stdout",
     "output_type": "stream",
     "text": [
      "\n",
      "--------------------------------------------------\n",
      "Searching for reviews by Kanye West...\n",
      "Already have the review for my beautiful\n",
      "Already have the review for Graduation\n",
      "Already have the review for Late Registration\n",
      "\n",
      "--------------------------------------------------\n",
      "Searching for reviews by The Beatles...\n",
      "Already have the review for Abbey Road\n",
      "Already have the review for Let It Be\n",
      "Already have the review for Sgt. Pepper's Lonely Hearts Club Band\n",
      "\n",
      "\n",
      "**************************************************\n",
      "Done scraping Pitchfork reviews!\n",
      "Time elapsed: -1.970065964592828e-06 hours\n"
     ]
    }
   ],
   "source": [
    "# Check if the pickle file already exists\n",
    "filename_album_reviews = \"album_reviews.pickle\"\n",
    "if os.path.exists(filename_album_reviews) and os.path.getsize(filename_album_reviews) > 0:\n",
    "    artist_reviews = pickle.load(open(filename_album_reviews, 'rb'))\n",
    "else:\n",
    "    artist_reviews = {}\n",
    "    \n",
    "# Search for reviews for each artist's albums    \n",
    "start = time.time()\n",
    "for artist in artist_albums:\n",
    "    print(\"\\n{row}\\nSearching for reviews by {artist}...\".format(row=\"-\"*50, artist=artist))\n",
    "    try:\n",
    "        album_reviews = artist_reviews[artist] if artist in artist_reviews else {}\n",
    "        for album in artist_albums[artist]:\n",
    "            if album not in album_reviews:\n",
    "                try:\n",
    "                    review = pitchfork.search(artist, album)\n",
    "                    album_reviews[album] = review.to_json()\n",
    "                    print('Found a review for \"{album}\" / ({rev_name}).'.format(album=album, rev_name=review.album()))\n",
    "                except:\n",
    "                    print(\"Could not find a review for {album}\".format(album=album))\n",
    "                time.sleep(3) # Wait before pulling a new review\n",
    "            else:\n",
    "                print(\"Already have the review for {}\".format(album))\n",
    "\n",
    "        # If reviews were found, add them to the dictionary\n",
    "        if len(album_reviews) > 0:\n",
    "            artist_reviews[artist] = album_reviews\n",
    "\n",
    "        # Save all reviews for current artist into the pickle\n",
    "        pickle.dump(artist_reviews, open(filename_album_reviews, 'wb'))\n",
    "    except Exception as e:\n",
    "        print(\"Error:\\n{e}\".format(e=e))\n",
    "        time.sleep(5*60) # Wait five minutes\n",
    "    \n",
    "end = time.time()\n",
    "print(\"\\n\\n{row}\\nDone scraping Pitchfork reviews!\\nTime elapsed: {t} hours\".format(row=\"*\"*60, t=(start-end)/60/60))"
   ]
  },
  {
   "cell_type": "markdown",
   "metadata": {},
   "source": [
    "## Code for loading the Pitchfork reviews from the pickle"
   ]
  },
  {
   "cell_type": "code",
   "execution_count": 174,
   "metadata": {},
   "outputs": [],
   "source": [
    "def convert_json_to_review(json_obj):\n",
    "    return Review(json_obj['searched_artist'], json_obj['searched_album'],\n",
    "                  json_obj['matched_artist'], json_obj['matched_album'],\n",
    "                  json_obj['query'], json_obj['url'], BeautifulSoup(json_obj['soup'], \"lxml\"))"
   ]
  },
  {
   "cell_type": "code",
   "execution_count": 175,
   "metadata": {},
   "outputs": [],
   "source": [
    "R = convert_json_to_review(j)"
   ]
  },
  {
   "cell_type": "code",
   "execution_count": null,
   "metadata": {},
   "outputs": [],
   "source": [
    "\n",
    "\n",
    "\n",
    "\n",
    "\n",
    "\n",
    "\n",
    "\n",
    "\n",
    "\n",
    "\n",
    "\n",
    "\n",
    "\n",
    "\n",
    "\n",
    "\n",
    "\n",
    "\n"
   ]
  }
 ],
 "metadata": {
  "kernelspec": {
   "display_name": "Python 3",
   "language": "python",
   "name": "python3"
  },
  "language_info": {
   "codemirror_mode": {
    "name": "ipython",
    "version": 3
   },
   "file_extension": ".py",
   "mimetype": "text/x-python",
   "name": "python",
   "nbconvert_exporter": "python",
   "pygments_lexer": "ipython3",
   "version": "3.6.4"
  }
 },
 "nbformat": 4,
 "nbformat_minor": 2
}
