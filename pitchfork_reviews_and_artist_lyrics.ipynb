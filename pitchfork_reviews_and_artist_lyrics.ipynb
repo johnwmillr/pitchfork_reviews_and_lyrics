{
 "cells": [
  {
   "cell_type": "code",
   "execution_count": 65,
   "metadata": {},
   "outputs": [],
   "source": [
    "import pitchfork.pitchfork as pitchfork\n",
    "import json\n",
    "import numpy as np\n",
    "import pandas as pd\n",
    "import matplotlib.pyplot as plt\n",
    "from collections import Counter\n",
    "import time"
   ]
  },
  {
   "cell_type": "markdown",
   "metadata": {},
   "source": [
    "## Load the lyrics data"
   ]
  },
  {
   "cell_type": "code",
   "execution_count": 7,
   "metadata": {},
   "outputs": [],
   "source": [
    "# Load the lyrics\n",
    "artists_rap = json.load(open('lyrics/rap_lyrics.json'))\n",
    "artists_rock = json.load(open('lyrics/rock_lyrics.json'))\n",
    "artists_country = json.load(open('lyrics/country_lyrics.json'))\n",
    "artists_raw = artists_rap + artists_rock + artists_country"
   ]
  },
  {
   "cell_type": "code",
   "execution_count": 10,
   "metadata": {},
   "outputs": [
    {
     "name": "stdout",
     "output_type": "stream",
     "text": [
      "You have lyrics from 303 artists, with a minimum of 10 songs per artist.\n",
      "Female: 79, male: 222\n",
      "Database contains 58239 songs.\n"
     ]
    }
   ],
   "source": [
    "# Determine\n",
    "def getArtistImage(songs):    \n",
    "    urls = [None]\n",
    "    for song in songs:\n",
    "        if song['raw']['album'] is not None:\n",
    "            try:                \n",
    "                urls.append(song['raw']['album']['artist']['image_url'])                \n",
    "            except:\n",
    "                pass\n",
    "    \n",
    "    return Counter(urls).most_common()[0][0] # Most common image\n",
    "\n",
    "# Use a generator to exclude artists with too few songs\n",
    "def filterBySongCount(artists, min_count=10, max_count=10000):\n",
    "    for artist in artists:        \n",
    "        num_songs = len(artist['songs'])\n",
    "        if (num_songs >= min_count) and (num_songs < max_count): yield artist\n",
    "\n",
    "min_songs, max_songs = 10, 2500\n",
    "artists = list(filterBySongCount(artists_raw, min_songs, max_songs))\n",
    "\n",
    "# Artist images\n",
    "for artist in artists:\n",
    "    artist['image_url'] = getArtistImage(artist['songs'])\n",
    "    \n",
    "    # Kludge\n",
    "    if artist['artist'] == 'Black Thought':\n",
    "        artist['image_url'] = 'https://images.genius.com/23de511f4ac50d900128ea363b7d81b3.450x320x1.jpg'\n",
    "    if artist['artist'] == 'André 3000':\n",
    "        artist['image_url'] = 'http://images.genius.com/64b15c9489c65f5bf8f6577334347404.434x434x1.jpg'            \n",
    "        \n",
    "# Gender\n",
    "labels_gender = np.array([a['gender'] for a in artists])\n",
    "mask_female = np.array([g=='female' for g in labels_gender])\n",
    "mask_male   = np.array([g=='male'   for g in labels_gender])\n",
    "print(\"You have lyrics from {} artists, with a minimum of {} songs per artist.\\nFemale: {}, male: {}\"\n",
    "      .format(len(artists), min_songs, (labels_gender=='female').sum(), (labels_gender=='male').sum()))\n",
    "\n",
    "# Add all song lyrics to a single list\n",
    "all_songs = []\n",
    "for artist, gender in zip(artists, labels_gender):\n",
    "    for song in artist['songs']:        \n",
    "        song['gender'] = gender\n",
    "        all_songs.append(song)\n",
    "              \n",
    "song_count = len(all_songs)\n",
    "print(\"Database contains {} songs.\".format(song_count))\n",
    "\n",
    "# Store all lyrics in a single string\n",
    "all_lyrics = \" \".join([song['lyrics'] for song in all_songs])"
   ]
  },
  {
   "cell_type": "markdown",
   "metadata": {},
   "source": [
    "## Get list of all artist names and their albums"
   ]
  },
  {
   "cell_type": "code",
   "execution_count": 58,
   "metadata": {},
   "outputs": [],
   "source": [
    "# For each artist, get a list of their albums\n",
    "artist_albums = {}\n",
    "for artist in artists:\n",
    "    album_song_counts = {} # Keep track of how many songs show up for each album\n",
    "    for song in artist['songs']:        \n",
    "        album = song['album']        \n",
    "        if album in album_song_counts:\n",
    "            album_song_counts[album] += 1\n",
    "        elif album is not None:\n",
    "            album_song_counts[album]  = 1\n",
    "\n",
    "    # Only store albums with a bare minimum of songs (a rough indication of a real album)\n",
    "    artist_albums[artist['artist']] = [album[0] for album in album_song_counts.items() if album[1] >= 7]\n",
    "\n",
    "# Filter out artists without any albums matching the criteria    \n",
    "artist_albums = {artist: albums for artist, albums in artist_albums.items() if len(albums)>0}"
   ]
  },
  {
   "cell_type": "markdown",
   "metadata": {},
   "source": [
    "## Search Pitchfork for the album names we've collected"
   ]
  },
  {
   "cell_type": "code",
   "execution_count": null,
   "metadata": {},
   "outputs": [],
   "source": [
    "for artist in artist_albums:\n",
    "    for album in artist_albums[artist]:\n",
    "        try:\n",
    "            review = pitchfork.search(artist, album)\n",
    "        except:\n",
    "            pass # Couldn't find a review\n",
    "                \n",
    "        time.sleep(10) # Wait before pulling a new review"
   ]
  },
  {
   "cell_type": "code",
   "execution_count": null,
   "metadata": {},
   "outputs": [],
   "source": [
    "\n",
    "\n",
    "\n",
    "\n",
    "\n",
    "\n",
    "\n",
    "\n",
    "\n",
    "\n",
    "\n",
    "\n",
    "\n",
    "\n",
    "\n",
    "\n",
    "\n",
    "\n",
    "\n"
   ]
  }
 ],
 "metadata": {
  "kernelspec": {
   "display_name": "Python 3",
   "language": "python",
   "name": "python3"
  },
  "language_info": {
   "codemirror_mode": {
    "name": "ipython",
    "version": 3
   },
   "file_extension": ".py",
   "mimetype": "text/x-python",
   "name": "python",
   "nbconvert_exporter": "python",
   "pygments_lexer": "ipython3",
   "version": "3.6.4"
  }
 },
 "nbformat": 4,
 "nbformat_minor": 2
}
