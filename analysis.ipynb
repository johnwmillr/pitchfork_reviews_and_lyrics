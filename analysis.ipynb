{
 "cells": [
  {
   "cell_type": "code",
   "execution_count": 1,
   "metadata": {},
   "outputs": [],
   "source": [
    "import pitchfork.pitchfork as pitchfork\n",
    "from pitchfork.pitchfork.pitchfork import Review # For restoring saved reviews\n",
    "from bs4 import BeautifulSoup\n",
    "import json\n",
    "import pickle\n",
    "import os\n",
    "import numpy as np\n",
    "import pandas as pd\n",
    "import matplotlib.pyplot as plt\n",
    "from collections import Counter\n",
    "import time"
   ]
  },
  {
   "cell_type": "markdown",
   "metadata": {},
   "source": [
    "# Load and format the artist lyrics"
   ]
  },
  {
   "cell_type": "code",
   "execution_count": 2,
   "metadata": {},
   "outputs": [],
   "source": [
    "# Load the lyrics\n",
    "artists_rap = json.load(open('lyrics/rap_lyrics.json'))\n",
    "artists_rock = json.load(open('lyrics/rock_lyrics.json'))\n",
    "artists_country = json.load(open('lyrics/country_lyrics.json'))\n",
    "artists_raw = artists_rap + artists_rock + artists_country"
   ]
  },
  {
   "cell_type": "code",
   "execution_count": 3,
   "metadata": {},
   "outputs": [
    {
     "name": "stdout",
     "output_type": "stream",
     "text": [
      "You have lyrics from 303 artists, with a minimum of 10 songs per artist.\n",
      "Female: 79, male: 222\n",
      "Database contains 58239 songs.\n"
     ]
    }
   ],
   "source": [
    "# Determine\n",
    "def getArtistImage(songs):    \n",
    "    urls = [None]\n",
    "    for song in songs:\n",
    "        if song['raw']['album'] is not None:\n",
    "            try:                \n",
    "                urls.append(song['raw']['album']['artist']['image_url'])                \n",
    "            except:\n",
    "                pass\n",
    "    \n",
    "    return Counter(urls).most_common()[0][0] # Most common image\n",
    "\n",
    "# Use a generator to exclude artists with too few songs\n",
    "def filterBySongCount(artists, min_count=10, max_count=10000):\n",
    "    for artist in artists:        \n",
    "        num_songs = len(artist['songs'])\n",
    "        if (num_songs >= min_count) and (num_songs < max_count): yield artist\n",
    "\n",
    "min_songs, max_songs = 10, 2500\n",
    "artists = list(filterBySongCount(artists_raw, min_songs, max_songs))\n",
    "\n",
    "# Artist images\n",
    "for artist in artists:\n",
    "    artist['image_url'] = getArtistImage(artist['songs'])\n",
    "    \n",
    "    # Kludge\n",
    "    if artist['artist'] == 'Black Thought':\n",
    "        artist['image_url'] = 'https://images.genius.com/23de511f4ac50d900128ea363b7d81b3.450x320x1.jpg'\n",
    "    if artist['artist'] == 'André 3000':\n",
    "        artist['image_url'] = 'http://images.genius.com/64b15c9489c65f5bf8f6577334347404.434x434x1.jpg'            \n",
    "        \n",
    "# Gender\n",
    "labels_gender = np.array([a['gender'] for a in artists])\n",
    "mask_female = np.array([g=='female' for g in labels_gender])\n",
    "mask_male   = np.array([g=='male'   for g in labels_gender])\n",
    "print(\"You have lyrics from {} artists, with a minimum of {} songs per artist.\\nFemale: {}, male: {}\"\n",
    "      .format(len(artists), min_songs, (labels_gender=='female').sum(), (labels_gender=='male').sum()))\n",
    "\n",
    "# Add all song lyrics to a single list\n",
    "all_songs = []\n",
    "for artist, gender in zip(artists, labels_gender):\n",
    "    for song in artist['songs']:        \n",
    "        song['gender'] = gender\n",
    "        all_songs.append(song)\n",
    "              \n",
    "song_count = len(all_songs)\n",
    "print(\"Database contains {} songs.\".format(song_count))\n",
    "\n",
    "# Store all lyrics in a single string\n",
    "all_lyrics = \" \".join([song['lyrics'] for song in all_songs])"
   ]
  },
  {
   "cell_type": "markdown",
   "metadata": {},
   "source": [
    "# Load the Pitchfork album reviews"
   ]
  },
  {
   "cell_type": "code",
   "execution_count": 115,
   "metadata": {},
   "outputs": [],
   "source": [
    "filename_album_reviews = \"./backups/album_reviews.pickle\"\n",
    "if os.path.exists(filename_album_reviews) and os.path.getsize(filename_album_reviews) > 0:\n",
    "    artist_reviews = pickle.load(open(filename_album_reviews, 'rb'))    "
   ]
  },
  {
   "cell_type": "markdown",
   "metadata": {},
   "source": [
    "## Convert the reviews from JSON string to Pitchfork Review format"
   ]
  },
  {
   "cell_type": "code",
   "execution_count": 116,
   "metadata": {},
   "outputs": [],
   "source": [
    "def convert_json_to_review(review_as_string):\n",
    "    json_obj = json.loads(review_as_string)\n",
    "    return Review(json_obj['searched_artist'], json_obj['searched_album'],\n",
    "                  json_obj['matched_artist'], json_obj['matched_album'],\n",
    "                  json_obj['query'], json_obj['url'], BeautifulSoup(json_obj['soup'], \"lxml\"))"
   ]
  },
  {
   "cell_type": "code",
   "execution_count": 117,
   "metadata": {
    "scrolled": true
   },
   "outputs": [
    {
     "name": "stdout",
     "output_type": "stream",
     "text": [
      "Kanye West\n",
      "The Beatles\n",
      "2Pac\n",
      "Eminem\n",
      "The Notorious B.I.G.\n",
      "Nas\n",
      "Ice Cube\n",
      "JAY-Z\n",
      "Snoop Dogg\n",
      "Dr. Dre\n",
      "Kendrick Lamar\n",
      "A$AP Rocky\n",
      "50 Cent\n",
      "Busta Rhymes\n",
      "J. Cole\n",
      "Method Man\n",
      "KRS-One\n",
      "Ludacris\n",
      "Lil Wayne\n",
      "Common\n",
      "Ghostface Killah\n",
      "T.I.\n",
      "Lauryn Hill\n",
      "Scarface\n",
      "Raekwon\n",
      "The Game\n",
      "Ol' Dirty Bastard\n",
      "Mobb Deep\n",
      "Logic\n",
      "Chance The Rapper\n",
      "Cypress Hill\n",
      "Lupe Fiasco\n",
      "RZA\n",
      "GZA\n",
      "Warren G\n",
      "Q-Tip\n",
      "Talib Kweli\n",
      "Missy Elliott\n",
      "Immortal Technique\n",
      "Big Sean\n",
      "Kid Cudi\n",
      "Twista\n",
      "Big Boi\n",
      "Drake\n",
      "Wiz Khalifa\n",
      "Eric B. & Rakim\n",
      "ScHoolboy Q\n",
      "Run-D.M.C.\n",
      "Hopsin\n",
      "Nelly\n",
      "Tyler, The Creator\n",
      "Jadakiss\n",
      "Kurupt\n",
      "Grandmaster Flash & The Furious Five\n",
      "N.W.A\n",
      "Gang Starr\n",
      "E-40\n",
      "Pusha T\n",
      "De La Soul\n",
      "Yelawolf\n",
      "Earl Sweatshirt\n",
      "Fabolous\n",
      "Mac Miller\n",
      "Jeezy\n",
      "Kodak Black\n",
      "2 Chainz\n",
      "Chief Keef\n",
      "Gucci Mane\n",
      "Salt-N-Pepa\n",
      "Lil' Kim\n",
      "Nicki Minaj\n",
      "M.I.A.\n",
      "Azealia Banks\n",
      "Angel Haze\n",
      "DeJ Loaf\n",
      "Jean Grae\n",
      "Ciara\n",
      "Estelle\n",
      "Tink\n",
      "The Kinks\n",
      "The Beach Boys\n",
      "Bruce Springsteen\n",
      "Alice in Chains\n",
      "ZZ Top\n",
      "Green Day\n",
      "Neil Young\n",
      "Tom Petty and the Heartbreakers\n",
      "Foo Fighters\n",
      "Grateful Dead\n",
      "Rush\n",
      "Red Hot Chili Peppers\n",
      "Michael Jackson\n",
      "Paul McCartney\n",
      "\n",
      "Done.\n"
     ]
    }
   ],
   "source": [
    "# Convert to Review format\n",
    "all_reviews = {}\n",
    "for name, albums in artist_reviews.items():\n",
    "    print(name)\n",
    "    album_reviews = []\n",
    "    for album, review in albums.items():\n",
    "        album_reviews.append(convert_json_to_review(review))\n",
    "    all_reviews[name] = album_reviews\n",
    "print('\\nDone.')"
   ]
  },
  {
   "cell_type": "markdown",
   "metadata": {},
   "source": [
    "## Extract and store data from the Pitchfork reviews"
   ]
  },
  {
   "cell_type": "code",
   "execution_count": 134,
   "metadata": {},
   "outputs": [],
   "source": [
    "scores, years = [], []\n",
    "male_scores, female_scores = [],[]\n",
    "for artist in artists:\n",
    "    name = artist['artist']\n",
    "    if name in all_reviews:\n",
    "        # Collect information from the review        \n",
    "        for r in all_reviews[name]:\n",
    "            year = r.year().split('/')[0] # Album year\n",
    "            score = r.score() # Review score\n",
    "            if year != \"\":\n",
    "                years.append(int(year))  # Album year\n",
    "                scores.append(score) # Review score\n",
    "\n",
    "                # Store scores by gender        \n",
    "                if artist['gender'] == 'male':\n",
    "                    male_scores.append(score)\n",
    "                elif artist['gender'] == 'female':\n",
    "                    female_scores.append(score)\n",
    "            \n",
    "# Group together scores into single list\n",
    "scores_by_gender = [male_scores, female_scores]"
   ]
  },
  {
   "cell_type": "markdown",
   "metadata": {},
   "source": [
    "## Pitchfork reviews over time"
   ]
  },
  {
   "cell_type": "code",
   "execution_count": 135,
   "metadata": {},
   "outputs": [
    {
     "data": {
      "image/png": "[encoded data removed]",
      "text/plain": [
       "<matplotlib.figure.Figure at 0x159587e48>"
      ]
     },
     "metadata": {},
     "output_type": "display_data"
    }
   ],
   "source": [
    "fig, ax = plt.subplots(figsize=(8,6))\n",
    "ax.plot(years, scores, 'ro', alpha=0.2)\n",
    "plt.show()"
   ]
  },
  {
   "cell_type": "markdown",
   "metadata": {},
   "source": [
    "## Pitchfork review scores separated by gender"
   ]
  },
  {
   "cell_type": "code",
   "execution_count": 147,
   "metadata": {
    "scrolled": true
   },
   "outputs": [
    {
     "name": "stdout",
     "output_type": "stream",
     "text": [
      "Help on method boxplot in module matplotlib.axes._axes:\n",
      "\n",
      "boxplot(x, notch=None, sym=None, vert=None, whis=None, positions=None, widths=None, patch_artist=None, bootstrap=None, usermedians=None, conf_intervals=None, meanline=None, showmeans=None, showcaps=None, showbox=None, showfliers=None, boxprops=None, labels=None, flierprops=None, medianprops=None, meanprops=None, capprops=None, whiskerprops=None, manage_xticks=True, autorange=False, zorder=None, *, data=None) method of matplotlib.axes._subplots.AxesSubplot instance\n",
      "    Make a box and whisker plot.\n",
      "    \n",
      "    Make a box and whisker plot for each column of ``x`` or each\n",
      "    vector in sequence ``x``.  The box extends from the lower to\n",
      "    upper quartile values of the data, with a line at the median.\n",
      "    The whiskers extend from the box to show the range of the\n",
      "    data.  Flier points are those past the end of the whiskers.\n",
      "    \n",
      "    Parameters\n",
      "    ----------\n",
      "    x : Array or a sequence of vectors.\n",
      "        The input data.\n",
      "    \n",
      "    notch : bool, optional (False)\n",
      "        If `True`, will produce a notched box plot. Otherwise, a\n",
      "        rectangular boxplot is produced. The notches represent the\n",
      "        confidence interval (CI) around the median. See the entry\n",
      "        for the ``bootstrap`` parameter for information regarding\n",
      "        how the locations of the notches are computed.\n",
      "    \n",
      "        .. note::\n",
      "    \n",
      "            In cases where the values of the CI are less than the\n",
      "            lower quartile or greater than the upper quartile, the\n",
      "            notches will extend beyond the box, giving it a\n",
      "            distinctive \"flipped\" appearance. This is expected\n",
      "            behavior and consistent with other statistical\n",
      "            visualization packages.\n",
      "    \n",
      "    sym : str, optional\n",
      "        The default symbol for flier points. Enter an empty string\n",
      "        ('') if you don't want to show fliers. If `None`, then the\n",
      "        fliers default to 'b+'  If you want more control use the\n",
      "        flierprops kwarg.\n",
      "    \n",
      "    vert : bool, optional (True)\n",
      "        If `True` (default), makes the boxes vertical. If `False`,\n",
      "        everything is drawn horizontally.\n",
      "    \n",
      "    whis : float, sequence, or string (default = 1.5)\n",
      "        As a float, determines the reach of the whiskers to the beyond the\n",
      "        first and third quartiles. In other words, where IQR is the\n",
      "        interquartile range (`Q3-Q1`), the upper whisker will extend to\n",
      "        last datum less than `Q3 + whis*IQR`). Similarly, the lower whisker\n",
      "        will extend to the first datum greater than `Q1 - whis*IQR`.\n",
      "        Beyond the whiskers, data\n",
      "        are considered outliers and are plotted as individual\n",
      "        points. Set this to an unreasonably high value to force the\n",
      "        whiskers to show the min and max values. Alternatively, set\n",
      "        this to an ascending sequence of percentile (e.g., [5, 95])\n",
      "        to set the whiskers at specific percentiles of the data.\n",
      "        Finally, ``whis`` can be the string ``'range'`` to force the\n",
      "        whiskers to the min and max of the data.\n",
      "    \n",
      "    bootstrap : int, optional\n",
      "        Specifies whether to bootstrap the confidence intervals\n",
      "        around the median for notched boxplots. If ``bootstrap`` is\n",
      "        None, no bootstrapping is performed, and notches are\n",
      "        calculated using a Gaussian-based asymptotic approximation\n",
      "        (see McGill, R., Tukey, J.W., and Larsen, W.A., 1978, and\n",
      "        Kendall and Stuart, 1967). Otherwise, bootstrap specifies\n",
      "        the number of times to bootstrap the median to determine its\n",
      "        95% confidence intervals. Values between 1000 and 10000 are\n",
      "        recommended.\n",
      "    \n",
      "    usermedians : array-like, optional\n",
      "        An array or sequence whose first dimension (or length) is\n",
      "        compatible with ``x``. This overrides the medians computed\n",
      "        by matplotlib for each element of ``usermedians`` that is not\n",
      "        `None`. When an element of ``usermedians`` is None, the median\n",
      "        will be computed by matplotlib as normal.\n",
      "    \n",
      "    conf_intervals : array-like, optional\n",
      "        Array or sequence whose first dimension (or length) is\n",
      "        compatible with ``x`` and whose second dimension is 2. When\n",
      "        the an element of ``conf_intervals`` is not None, the\n",
      "        notch locations computed by matplotlib are overridden\n",
      "        (provided ``notch`` is `True`). When an element of\n",
      "        ``conf_intervals`` is `None`, the notches are computed by the\n",
      "        method specified by the other kwargs (e.g., ``bootstrap``).\n",
      "    \n",
      "    positions : array-like, optional\n",
      "        Sets the positions of the boxes. The ticks and limits are\n",
      "        automatically set to match the positions. Defaults to\n",
      "        `range(1, N+1)` where N is the number of boxes to be drawn.\n",
      "    \n",
      "    widths : scalar or array-like\n",
      "        Sets the width of each box either with a scalar or a\n",
      "        sequence. The default is 0.5, or ``0.15*(distance between\n",
      "        extreme positions)``, if that is smaller.\n",
      "    \n",
      "    patch_artist : bool, optional (False)\n",
      "        If `False` produces boxes with the Line2D artist. Otherwise,\n",
      "        boxes and drawn with Patch artists.\n",
      "    \n",
      "    labels : sequence, optional\n",
      "        Labels for each dataset. Length must be compatible with\n",
      "        dimensions  of ``x``.\n",
      "    \n",
      "    manage_xticks : bool, optional (True)\n",
      "        If the function should adjust the xlim and xtick locations.\n",
      "    \n",
      "    autorange : bool, optional (False)\n",
      "        When `True` and the data are distributed such that the  25th and\n",
      "        75th percentiles are equal, ``whis`` is set to ``'range'`` such\n",
      "        that the whisker ends are at the minimum and maximum of the\n",
      "        data.\n",
      "    \n",
      "    meanline : bool, optional (False)\n",
      "        If `True` (and ``showmeans`` is `True`), will try to render\n",
      "        the mean as a line spanning the full width of the box\n",
      "        according to ``meanprops`` (see below). Not recommended if\n",
      "        ``shownotches`` is also True. Otherwise, means will be shown\n",
      "        as points.\n",
      "    \n",
      "    zorder : scalar, optional (None)\n",
      "        Sets the zorder of the boxplot.\n",
      "    \n",
      "    Other Parameters\n",
      "    ----------------\n",
      "    showcaps : bool, optional (True)\n",
      "        Show the caps on the ends of whiskers.\n",
      "    showbox : bool, optional (True)\n",
      "        Show the central box.\n",
      "    showfliers : bool, optional (True)\n",
      "        Show the outliers beyond the caps.\n",
      "    showmeans : bool, optional (False)\n",
      "        Show the arithmetic means.\n",
      "    capprops : dict, optional (None)\n",
      "        Specifies the style of the caps.\n",
      "    boxprops : dict, optional (None)\n",
      "        Specifies the style of the box.\n",
      "    whiskerprops : dict, optional (None)\n",
      "        Specifies the style of the whiskers.\n",
      "    flierprops : dict, optional (None)\n",
      "        Specifies the style of the fliers.\n",
      "    medianprops : dict, optional (None)\n",
      "        Specifies the style of the median.\n",
      "    meanprops : dict, optional (None)\n",
      "        Specifies the style of the mean.\n",
      "    \n",
      "    Returns\n",
      "    -------\n",
      "    result : dict\n",
      "      A dictionary mapping each component of the boxplot to a list\n",
      "      of the :class:`matplotlib.lines.Line2D` instances\n",
      "      created. That dictionary has the following keys (assuming\n",
      "      vertical boxplots):\n",
      "    \n",
      "      - ``boxes``: the main body of the boxplot showing the\n",
      "        quartiles and the median's confidence intervals if\n",
      "        enabled.\n",
      "    \n",
      "      - ``medians``: horizontal lines at the median of each box.\n",
      "    \n",
      "      - ``whiskers``: the vertical lines extending to the most\n",
      "        extreme, non-outlier data points.\n",
      "    \n",
      "      - ``caps``: the horizontal lines at the ends of the\n",
      "        whiskers.\n",
      "    \n",
      "      - ``fliers``: points representing data that extend beyond\n",
      "        the whiskers (fliers).\n",
      "    \n",
      "      - ``means``: points or lines representing the means.\n",
      "    \n",
      "    .. note::\n",
      "        In addition to the above described arguments, this function can take a\n",
      "        **data** keyword argument. If such a **data** argument is given, the\n",
      "        following arguments are replaced by **data[<arg>]**:\n",
      "    \n",
      "        * All positional and all keyword arguments.\n",
      "\n"
     ]
    }
   ],
   "source": [
    "help(ax.boxplot)"
   ]
  },
  {
   "cell_type": "code",
   "execution_count": 146,
   "metadata": {},
   "outputs": [
    {
     "data": {
      "image/png": "[encoded data removed]",
      "text/plain": [
       "<matplotlib.figure.Figure at 0x159b2e550>"
      ]
     },
     "metadata": {},
     "output_type": "display_data"
    }
   ],
   "source": [
    "fig, ax = plt.subplots(figsize=(8,6))\n",
    "ax.boxplot(scores_by_gender)\n",
    "for i,y in enumerate(scores_by_gender):\n",
    "    # Add some random \"jitter\" to the x-axis\n",
    "    x = np.random.normal(i+1, 0.04, size=len(y))\n",
    "    plt.plot(x, y, 'm.', alpha=0.2)\n",
    "plt.show()"
   ]
  },
  {
   "cell_type": "markdown",
   "metadata": {},
   "source": [
    "## Interactive plot that shows review abstract with mouse over"
   ]
  },
  {
   "cell_type": "code",
   "execution_count": null,
   "metadata": {},
   "outputs": [],
   "source": []
  }
 ],
 "metadata": {
  "kernelspec": {
   "display_name": "Python 3",
   "language": "python",
   "name": "python3"
  },
  "language_info": {
   "codemirror_mode": {
    "name": "ipython",
    "version": 3
   },
   "file_extension": ".py",
   "mimetype": "text/x-python",
   "name": "python",
   "nbconvert_exporter": "python",
   "pygments_lexer": "ipython3",
   "version": "3.6.4"
  }
 },
 "nbformat": 4,
 "nbformat_minor": 2
}
